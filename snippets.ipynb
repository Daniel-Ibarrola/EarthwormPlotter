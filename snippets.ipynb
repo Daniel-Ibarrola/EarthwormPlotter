{
 "cells": [
  {
   "cell_type": "code",
   "execution_count": 58,
   "id": "fc106597-30c1-4e45-a5d9-f438e9ec7a16",
   "metadata": {},
   "outputs": [],
   "source": [
    "%matplotlib inline\n",
    "import matplotlib.pyplot as plt\n",
    "from matplotlib.figure import Figure\n",
    "import numpy as np\n",
    "\n",
    "from collections import deque"
   ]
  },
  {
   "cell_type": "code",
   "execution_count": 9,
   "id": "153dd774-09f3-4ed1-875c-2c8c447994eb",
   "metadata": {},
   "outputs": [
    {
     "name": "stdout",
     "output_type": "stream",
     "text": [
      "Data length: 7500\n"
     ]
    }
   ],
   "source": [
    "n_samples = 125\n",
    "time_upper_limit = 60\n",
    "\n",
    "data = []\n",
    "for ii in range(int(n_samples * time_upper_limit / 25)):\n",
    "    data +=  [ii] * 25\n",
    "    \n",
    "assert len(data) == n_samples * 60\n",
    "print(f\"Data length: {len(data)}\")"
   ]
  },
  {
   "cell_type": "code",
   "execution_count": 20,
   "id": "0e60086f-d389-4689-a2e4-2d235685009e",
   "metadata": {},
   "outputs": [
    {
     "data": {
      "image/png": "[encoded data removed]",
      "text/plain": [
       "<Figure size 1080x576 with 1 Axes>"
      ]
     },
     "metadata": {
      "needs_background": "light"
     },
     "output_type": "display_data"
    }
   ],
   "source": [
    "time_labels = list(range(0, 70, 10))\n",
    "\n",
    "fig, ax = plt.subplots(figsize=(15, 8))\n",
    "ax.plot(data)\n",
    "\n",
    "step = len(data) / 6\n",
    "xticks = np.arange(0, len(data) + step, step, dtype=np.int32)\n",
    "ax.set_xticks(xticks)\n",
    "ax.set_xticklabels(time_labels)\n",
    "\n",
    "plt.show()"
   ]
  },
  {
   "cell_type": "code",
   "execution_count": 46,
   "id": "befba175-55e2-4d63-b4a9-ec83bf0130d7",
   "metadata": {},
   "outputs": [
    {
     "name": "stdout",
     "output_type": "stream",
     "text": [
      "10\n",
      "deque([array([0., 0., 0., 0., 0., 0., 0., 0., 0., 0.]), array([1., 1., 1., 1., 1., 1., 1., 1., 1., 1.]), array([2., 2., 2., 2., 2., 2., 2., 2., 2., 2.]), array([3., 3., 3., 3., 3., 3., 3., 3., 3., 3.]), array([4., 4., 4., 4., 4., 4., 4., 4., 4., 4.]), array([5., 5., 5., 5., 5., 5., 5., 5., 5., 5.]), array([6., 6., 6., 6., 6., 6., 6., 6., 6., 6.]), array([7., 7., 7., 7., 7., 7., 7., 7., 7., 7.]), array([8., 8., 8., 8., 8., 8., 8., 8., 8., 8.]), array([9., 9., 9., 9., 9., 9., 9., 9., 9., 9.])])\n"
     ]
    }
   ],
   "source": [
    "queue = deque()\n",
    "for ii in range(10):\n",
    "    queue.append(np.ones(10) * ii)\n",
    "\n",
    "print(len(queue))\n",
    "print(queue)"
   ]
  },
  {
   "cell_type": "code",
   "execution_count": 47,
   "id": "88ccafad-403f-4afe-9f34-000921190937",
   "metadata": {},
   "outputs": [
    {
     "name": "stdout",
     "output_type": "stream",
     "text": [
      "10\n",
      "deque([array([100., 100., 100., 100., 100., 100., 100., 100., 100., 100.]), array([1., 1., 1., 1., 1., 1., 1., 1., 1., 1.]), array([2., 2., 2., 2., 2., 2., 2., 2., 2., 2.]), array([3., 3., 3., 3., 3., 3., 3., 3., 3., 3.]), array([4., 4., 4., 4., 4., 4., 4., 4., 4., 4.]), array([5., 5., 5., 5., 5., 5., 5., 5., 5., 5.]), array([6., 6., 6., 6., 6., 6., 6., 6., 6., 6.]), array([7., 7., 7., 7., 7., 7., 7., 7., 7., 7.]), array([8., 8., 8., 8., 8., 8., 8., 8., 8., 8.]), array([9., 9., 9., 9., 9., 9., 9., 9., 9., 9.])])\n"
     ]
    }
   ],
   "source": [
    "queue.popleft()\n",
    "queue.appendleft(np.ones(10) * 100)\n",
    "\n",
    "print(len(queue))\n",
    "print(queue)"
   ]
  },
  {
   "cell_type": "code",
   "execution_count": 52,
   "id": "c722c18f-11b8-49be-85f3-8bc6118d1fb5",
   "metadata": {},
   "outputs": [
    {
     "name": "stdout",
     "output_type": "stream",
     "text": [
      "(100,)\n",
      "[100. 100. 100. 100. 100. 100. 100. 100. 100. 100.   1.   1.   1.   1.\n",
      "   1.   1.   1.   1.   1.   1.   2.   2.   2.   2.   2.   2.   2.   2.\n",
      "   2.   2.   3.   3.   3.   3.   3.   3.   3.   3.   3.   3.   4.   4.\n",
      "   4.   4.   4.   4.   4.   4.   4.   4.   5.   5.   5.   5.   5.   5.\n",
      "   5.   5.   5.   5.   6.   6.   6.   6.   6.   6.   6.   6.   6.   6.\n",
      "   7.   7.   7.   7.   7.   7.   7.   7.   7.   7.   8.   8.   8.   8.\n",
      "   8.   8.   8.   8.   8.   8.   9.   9.   9.   9.   9.   9.   9.   9.\n",
      "   9.   9.]\n"
     ]
    }
   ],
   "source": [
    "array = np.array(queue).reshape(-1)\n",
    "print(array.shape)\n",
    "print(array)"
   ]
  },
  {
   "cell_type": "code",
   "execution_count": 62,
   "id": "eb7cc6e5-2a3e-4c1a-8ad8-0b7acf4889f1",
   "metadata": {},
   "outputs": [
    {
     "name": "stdout",
     "output_type": "stream",
     "text": [
      "(7,)\n",
      "[   0 1250 2500 3750 5000 6250 7500]\n"
     ]
    }
   ],
   "source": [
    "n_samples = 250\n",
    "time_size = (n_samples / 2) * time_upper_lim\n",
    "time_upper_lim =  60\n",
    "step = step = int(n_samples / 2)\n",
    "\n",
    "arr = np.arange(0, time_size + step, time_size / 6, dtype=np.int64)\n",
    "print(arr.shape)\n",
    "print(arr)"
   ]
  },
  {
   "cell_type": "code",
   "execution_count": 65,
   "id": "f3fd9d77-aa7f-48db-8198-8aae5b3df72e",
   "metadata": {},
   "outputs": [],
   "source": [
    "fig = Figure()\n",
    "ax = fig.add_subplot(111)\n",
    "\n",
    "ax.set_xlim(0, time_size)\n",
    "ax.set_ylim(0, 100)\n",
    "# Set xticks for the plot\n",
    "ax.set_xticks(arr)\n",
    "ax.set_xticklabels(list(range(0, time_upper_lim + 10, 10)))\n",
    "plt.show()"
   ]
  }
 ],
 "metadata": {
  "kernelspec": {
   "display_name": "Python 3 (ipykernel)",
   "language": "python",
   "name": "python3"
  },
  "language_info": {
   "codemirror_mode": {
    "name": "ipython",
    "version": 3
   },
   "file_extension": ".py",
   "mimetype": "text/x-python",
   "name": "python",
   "nbconvert_exporter": "python",
   "pygments_lexer": "ipython3",
   "version": "3.7.10"
  }
 },
 "nbformat": 4,
 "nbformat_minor": 5
}
